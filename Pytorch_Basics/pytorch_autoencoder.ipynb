{
  "nbformat": 4,
  "nbformat_minor": 0,
  "metadata": {
    "colab": {
      "name": "pytorch_autoencoder",
      "provenance": [],
      "collapsed_sections": [],
      "authorship_tag": "ABX9TyOJtXcrbhw0TQb0qPMKVbc8",
      "include_colab_link": true
    },
    "kernelspec": {
      "name": "python3",
      "display_name": "Python 3"
    },
    "accelerator": "GPU"
  },
  "cells": [
    {
      "cell_type": "markdown",
      "metadata": {
        "id": "view-in-github",
        "colab_type": "text"
      },
      "source": [
        "<a href=\"https://colab.research.google.com/github/PamelaVQ/Base-ML/blob/master/Pytorch_Basics/pytorch_autoencoder.ipynb\" target=\"_parent\"><img src=\"https://colab.research.google.com/assets/colab-badge.svg\" alt=\"Open In Colab\"/></a>"
      ]
    },
    {
      "cell_type": "markdown",
      "metadata": {
        "id": "49y7DnS21Bpu",
        "colab_type": "text"
      },
      "source": [
        "Create a simple autoencoder using pytorch"
      ]
    },
    {
      "cell_type": "code",
      "metadata": {
        "id": "sdB939JC1Kes",
        "colab_type": "code",
        "colab": {}
      },
      "source": [
        "import torch\n",
        "from torchvision.datasets import MNIST\n",
        "from torchvision.utils import make_grid\n",
        "from torch import nn\n",
        "from torchvision import transforms\n",
        "from torch.utils.data import dataloader\n",
        "from torch.autograd import Variable"
      ],
      "execution_count": 1,
      "outputs": []
    },
    {
      "cell_type": "code",
      "metadata": {
        "id": "HOFa_2_95HLk",
        "colab_type": "code",
        "colab": {
          "base_uri": "https://localhost:8080/",
          "height": 170
        },
        "outputId": "fc962dc5-ff43-49de-fa82-ce792bc09048"
      },
      "source": [
        "dataset = MNIST(root='.', download=True, transform=transforms.Compose([transforms.ToTensor(), transforms.Normalize([0.5], [0.5])]))\n",
        "dataset"
      ],
      "execution_count": 2,
      "outputs": [
        {
          "output_type": "execute_result",
          "data": {
            "text/plain": [
              "Dataset MNIST\n",
              "    Number of datapoints: 60000\n",
              "    Root location: .\n",
              "    Split: Train\n",
              "    StandardTransform\n",
              "Transform: Compose(\n",
              "               ToTensor()\n",
              "               Normalize(mean=[0.5], std=[0.5])\n",
              "           )"
            ]
          },
          "metadata": {
            "tags": []
          },
          "execution_count": 2
        }
      ]
    },
    {
      "cell_type": "code",
      "metadata": {
        "id": "WrbP1frp5_g2",
        "colab_type": "code",
        "colab": {
          "base_uri": "https://localhost:8080/",
          "height": 34
        },
        "outputId": "fec6b507-931d-4812-b6eb-b9b55629cb0d"
      },
      "source": [
        "# create a dataloader\n",
        "batch_size = 128\n",
        "mnist_data = dataloader.DataLoader(dataset, batch_size=batch_size, shuffle=True)\n",
        "num_epochs = 20\n",
        "print(dataset.data.shape, dataset.data.shape[1], dataset.data.shape[2])"
      ],
      "execution_count": 3,
      "outputs": [
        {
          "output_type": "stream",
          "text": [
            "torch.Size([60000, 28, 28]) 28 28\n"
          ],
          "name": "stdout"
        }
      ]
    },
    {
      "cell_type": "code",
      "metadata": {
        "id": "z1zDxvFr7NA0",
        "colab_type": "code",
        "colab": {}
      },
      "source": [
        "# create a simple autoencoder\n",
        "class Encoder(nn.Module):\n",
        "  def __init__(self, input_1, input_2):\n",
        "    super(Encoder, self).__init__()\n",
        "    self.linear1 = nn.Linear(input_1 * input_2, 128)\n",
        "    self.linear2 = nn.Linear(128, 64)\n",
        "    self.linear3 = nn.Linear(64, 12)\n",
        "    self.linear4 = nn.Linear(12, 3)\n",
        "\n",
        "  def forward(self, x):\n",
        "    x = torch.relu(self.linear1(x))\n",
        "    x = torch.relu(self.linear2(x))\n",
        "    x = torch.relu(self.linear3(x))\n",
        "    x = torch.relu(self.linear4(x))\n",
        "    # x = nn.Tanh()\n",
        "    return x\n",
        "\n",
        "class Decoder(nn.Module):\n",
        "  def __init__(self, output_1, output_2):\n",
        "    super(Decoder, self).__init__()\n",
        "    self.linear1 = nn.Linear(3, 12)\n",
        "    self.linear2 = nn.Linear(12, 64)\n",
        "    self.linear3 = nn.Linear(64, 128)\n",
        "    self.linear4 = nn.Linear(128, output_1 * output_2)   \n",
        "\n",
        "  def forward(self, x):\n",
        "    x = torch.relu(self.linear1(x))\n",
        "    x = torch.relu(self.linear2(x))\n",
        "    x = torch.relu(self.linear3(x))\n",
        "    x = torch.relu(self.linear4(x))\n",
        "    # x = nn.Tanh(x)\n",
        "    return x\n"
      ],
      "execution_count": 4,
      "outputs": []
    },
    {
      "cell_type": "code",
      "metadata": {
        "id": "GFddNTmqDUt8",
        "colab_type": "code",
        "colab": {}
      },
      "source": [
        "encoder = Encoder(dataset.data.shape[1], dataset.data.shape[2])\n",
        "decoder = Decoder(dataset.data.shape[1], dataset.data.shape[2])\n",
        "\n",
        "autoencoder = nn.Sequential(encoder, decoder)"
      ],
      "execution_count": 5,
      "outputs": []
    },
    {
      "cell_type": "code",
      "metadata": {
        "id": "TU2_w43aNMgd",
        "colab_type": "code",
        "colab": {
          "base_uri": "https://localhost:8080/",
          "height": 68
        },
        "outputId": "57db457b-f02c-4714-d1bb-26a48f1c50c0"
      },
      "source": [
        "x = Variable(torch.ones(batch_size, 784))\n",
        "e = encoder(x)\n",
        "d = decoder(e)\n",
        "\n",
        "print('Input\\t ', list(x.data.shape))\n",
        "print('Embedding', list(e.data.shape))\n",
        "print('Output\\t ', list(d.data.shape))"
      ],
      "execution_count": 6,
      "outputs": [
        {
          "output_type": "stream",
          "text": [
            "Input\t  [128, 784]\n",
            "Embedding [128, 3]\n",
            "Output\t  [128, 784]\n"
          ],
          "name": "stdout"
        }
      ]
    },
    {
      "cell_type": "code",
      "metadata": {
        "id": "VhglA7RIDtph",
        "colab_type": "code",
        "colab": {
          "base_uri": "https://localhost:8080/",
          "height": 255
        },
        "outputId": "eb5dbae5-a94d-4129-8fef-837350ae5cd7"
      },
      "source": [
        "loss_fn = nn.MSELoss()\n",
        "optim = torch.optim.Adam(autoencoder.parameters())\n",
        "autoencoder.train()"
      ],
      "execution_count": 7,
      "outputs": [
        {
          "output_type": "execute_result",
          "data": {
            "text/plain": [
              "Sequential(\n",
              "  (0): Encoder(\n",
              "    (linear1): Linear(in_features=784, out_features=128, bias=True)\n",
              "    (linear2): Linear(in_features=128, out_features=64, bias=True)\n",
              "    (linear3): Linear(in_features=64, out_features=12, bias=True)\n",
              "    (linear4): Linear(in_features=12, out_features=3, bias=True)\n",
              "  )\n",
              "  (1): Decoder(\n",
              "    (linear1): Linear(in_features=3, out_features=12, bias=True)\n",
              "    (linear2): Linear(in_features=12, out_features=64, bias=True)\n",
              "    (linear3): Linear(in_features=64, out_features=128, bias=True)\n",
              "    (linear4): Linear(in_features=128, out_features=784, bias=True)\n",
              "  )\n",
              ")"
            ]
          },
          "metadata": {
            "tags": []
          },
          "execution_count": 7
        }
      ]
    },
    {
      "cell_type": "code",
      "metadata": {
        "id": "3L_jcTtME5Kd",
        "colab_type": "code",
        "colab": {
          "base_uri": "https://localhost:8080/",
          "height": 357
        },
        "outputId": "4f5b20e4-9013-4172-b199-62c31423015f"
      },
      "source": [
        "epoch_loss = []\n",
        "for epoch in range(num_epochs):\n",
        "  batch_loss = []\n",
        "  for batch_num, (data, _) in enumerate(mnist_data): # data = [128, 1, 28, 28]\n",
        "    optim.zero_grad()\n",
        "    data = data.view(data.shape[0], -1) # data = [128, 784]\n",
        "    data = Variable(data)\n",
        "    output = autoencoder(data)\n",
        "    loss = loss_fn(output, data)\n",
        "    loss.backward()\n",
        "    optim.step()\n",
        "    batch_loss.append(loss)\n",
        "  epoch_loss.append(sum(batch_loss)/len(batch_loss))\n",
        "  print(f'Epoch {epoch}:\\tloss {epoch_loss[-1]:.4f}')"
      ],
      "execution_count": 8,
      "outputs": [
        {
          "output_type": "stream",
          "text": [
            "Epoch 0:\tloss 0.9224\n",
            "Epoch 1:\tloss 0.9168\n",
            "Epoch 2:\tloss 0.9139\n",
            "Epoch 3:\tloss 0.9124\n",
            "Epoch 4:\tloss 0.9110\n",
            "Epoch 5:\tloss 0.9101\n",
            "Epoch 6:\tloss 0.9096\n",
            "Epoch 7:\tloss 0.9092\n",
            "Epoch 8:\tloss 0.9088\n",
            "Epoch 9:\tloss 0.9085\n",
            "Epoch 10:\tloss 0.9083\n",
            "Epoch 11:\tloss 0.9080\n",
            "Epoch 12:\tloss 0.9079\n",
            "Epoch 13:\tloss 0.9078\n",
            "Epoch 14:\tloss 0.9075\n",
            "Epoch 15:\tloss 0.9074\n",
            "Epoch 16:\tloss 0.9073\n",
            "Epoch 17:\tloss 0.9072\n",
            "Epoch 18:\tloss 0.9071\n",
            "Epoch 19:\tloss 0.9070\n"
          ],
          "name": "stdout"
        }
      ]
    },
    {
      "cell_type": "code",
      "metadata": {
        "id": "JQoqKeu0Z8OR",
        "colab_type": "code",
        "colab": {}
      },
      "source": [
        "def to_img(x):\n",
        "    x = (0.5 * x) + 0.5\n",
        "    x = x.view(x.shape[0], 1, 28, 28)\n",
        "    return x"
      ],
      "execution_count": 9,
      "outputs": []
    },
    {
      "cell_type": "code",
      "metadata": {
        "id": "WyNFcBZocfD1",
        "colab_type": "code",
        "colab": {}
      },
      "source": [
        "import matplotlib.pyplot as plt\n",
        "import numpy as np\n",
        "def show(img):\n",
        "    npimg = img.detach().numpy()\n",
        "    plt.imshow(np.transpose(npimg, (1,2,0)), interpolation='nearest')"
      ],
      "execution_count": 10,
      "outputs": []
    },
    {
      "cell_type": "code",
      "metadata": {
        "id": "NUN0Cg5YGHF9",
        "colab_type": "code",
        "colab": {
          "base_uri": "https://localhost:8080/",
          "height": 278
        },
        "outputId": "d989ded1-a224-48db-8d08-cea2797c019e"
      },
      "source": [
        "# print output\n",
        "# also test with cuda\n",
        "print_data = dataloader.DataLoader(dataset, batch_size=20, shuffle=True)\n",
        "model = autoencoder.cuda()\n",
        "from PIL import Image\n",
        "for batch_num, (data, _) in enumerate(print_data):\n",
        "    img1 = to_img(data)\n",
        "    # show(make_grid(img))\n",
        "    data = data.view(data.shape[0], -1)\n",
        "    data = Variable(data).cuda()\n",
        "    output = autoencoder(data)\n",
        "    output = output.cpu()\n",
        "    img = to_img(output)\n",
        "    show(make_grid(torch.cat([img1, img])))\n",
        "    break"
      ],
      "execution_count": 24,
      "outputs": [
        {
          "output_type": "stream",
          "text": [
            "Clipping input data to the valid range for imshow with RGB data ([0..1] for floats or [0..255] for integers).\n"
          ],
          "name": "stderr"
        },
        {
          "output_type": "display_data",
          "data": {
            "image/png": "[encoded data removed]",
            "text/plain": [
              "<Figure size 432x288 with 1 Axes>"
            ]
          },
          "metadata": {
            "tags": [],
            "needs_background": "light"
          }
        }
      ]
    },
    {
      "cell_type": "code",
      "metadata": {
        "id": "8PReiJ7ydxQf",
        "colab_type": "code",
        "colab": {}
      },
      "source": [
        ""
      ],
      "execution_count": 11,
      "outputs": []
    }
  ]
}