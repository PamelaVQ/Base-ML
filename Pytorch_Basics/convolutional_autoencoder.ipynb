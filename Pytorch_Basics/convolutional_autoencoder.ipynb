{
  "nbformat": 4,
  "nbformat_minor": 0,
  "metadata": {
    "colab": {
      "name": "convolutional_autoencoder",
      "provenance": [],
      "collapsed_sections": [],
      "authorship_tag": "ABX9TyNHX5gw9NmML/+7A4xIcHro",
      "include_colab_link": true
    },
    "kernelspec": {
      "name": "python3",
      "display_name": "Python 3"
    },
    "accelerator": "GPU"
  },
  "cells": [
    {
      "cell_type": "markdown",
      "metadata": {
        "id": "view-in-github",
        "colab_type": "text"
      },
      "source": [
        "<a href=\"https://colab.research.google.com/github/PamelaVQ/Base-ML/blob/master/Pytorch_Basics/convolutional_autoencoder.ipynb\" target=\"_parent\"><img src=\"https://colab.research.google.com/assets/colab-badge.svg\" alt=\"Open In Colab\"/></a>"
      ]
    },
    {
      "cell_type": "markdown",
      "metadata": {
        "id": "49y7DnS21Bpu",
        "colab_type": "text"
      },
      "source": [
        "Create a simple autoencoder using pytorch"
      ]
    },
    {
      "cell_type": "code",
      "metadata": {
        "id": "sdB939JC1Kes",
        "colab_type": "code",
        "colab": {}
      },
      "source": [
        "import torch\n",
        "from torchvision.datasets import FashionMNIST, MNIST\n",
        "from torchvision.utils import make_grid\n",
        "from torch import nn\n",
        "from torchvision import transforms\n",
        "from torch.utils.data import dataloader\n",
        "from torch.autograd import Variable"
      ],
      "execution_count": 214,
      "outputs": []
    },
    {
      "cell_type": "code",
      "metadata": {
        "id": "HOFa_2_95HLk",
        "colab_type": "code",
        "colab": {}
      },
      "source": [
        "transforms_list = [transforms.functional.adjust_brightness(img, brightness_factor=2),transforms.functional.hflip(img)]\n",
        "dataset = MNIST(root='.', download=True, transform=transforms.Compose([transforms.ToTensor(), \n",
        "                                                                              transforms.Normalize([0.5], [0.5]), \n",
        "                                                                       ]))"
      ],
      "execution_count": 248,
      "outputs": []
    },
    {
      "cell_type": "code",
      "metadata": {
        "id": "WrbP1frp5_g2",
        "colab_type": "code",
        "colab": {
          "base_uri": "https://localhost:8080/",
          "height": 34
        },
        "outputId": "fac4f543-9b46-4d3a-d694-17b875e32a6b"
      },
      "source": [
        "# create a dataloader\n",
        "batch_size = 128\n",
        "mnist_data = dataloader.DataLoader(dataset, batch_size=batch_size, shuffle=True)\n",
        "print(dataset.data.shape)\n"
      ],
      "execution_count": 249,
      "outputs": [
        {
          "output_type": "stream",
          "text": [
            "torch.Size([60000, 28, 28])\n"
          ],
          "name": "stdout"
        }
      ]
    },
    {
      "cell_type": "code",
      "metadata": {
        "id": "z1zDxvFr7NA0",
        "colab_type": "code",
        "colab": {}
      },
      "source": [
        "# create a convolutional autoencoder\n",
        "class Encoder(nn.Module):\n",
        "  def __init__(self, c, embedding_size): # [b, 1, 28, 28]\n",
        "    super(Encoder, self).__init__()\n",
        "    self.conv2d1 = nn.Conv2d(c, 10, 5, stride=2, padding=1)\n",
        "    self.conv2d2 = nn.Conv2d(10, 20, 3, stride=2, padding=1)\n",
        "    # self.maxpool = nn.MaxPool2d(3)\n",
        "    self.conv2d3 = nn.Conv2d(20, 40, 5, stride=3, padding=1)\n",
        "    self.fully = nn.Linear(160, embedding_size) \n",
        "\n",
        "  def forward(self, x):\n",
        "    x = torch.relu(self.conv2d1(x))\n",
        "    x = torch.relu(self.conv2d2(x))\n",
        "    # x = self.maxpool(x)\n",
        "    x = torch.relu(self.conv2d3(x))\n",
        "    x = x.view(x.data.shape[0], 160)\n",
        "    x = self.fully(x)\n",
        "    return x\n",
        "\n",
        "class Decoder(nn.Module):\n",
        "  def __init__(self, c, input_size):\n",
        "    super(Decoder, self).__init__()\n",
        "    self.fully = nn.Linear(input_size, 160) \n",
        "    self.conv2d1 = nn.ConvTranspose2d(40, 20, 5, stride=4, padding=1)\n",
        "    self.conv2d2 = nn.ConvTranspose2d(20, 10, 3, stride=2, padding=1)\n",
        "    self.conv2d3 = nn.ConvTranspose2d(10, c, 6, stride=2, padding=1)\n",
        "\n",
        "  def forward(self, x):\n",
        "    x = self.fully(x)\n",
        "    x = x.view(x.data.shape[0], 40, 2, 2)\n",
        "    x = torch.relu(self.conv2d1(x))\n",
        "    x = torch.relu(self.conv2d2(x))\n",
        "    x = torch.relu(self.conv2d3(x))\n",
        "    return x\n"
      ],
      "execution_count": 250,
      "outputs": []
    },
    {
      "cell_type": "code",
      "metadata": {
        "id": "GFddNTmqDUt8",
        "colab_type": "code",
        "colab": {}
      },
      "source": [
        "channels = 1\n",
        "encoder = Encoder(channels, embedding_size=40)\n",
        "decoder = Decoder(channels, input_size=40)\n",
        "\n",
        "autoencoder = nn.Sequential(encoder, decoder)"
      ],
      "execution_count": 251,
      "outputs": []
    },
    {
      "cell_type": "code",
      "metadata": {
        "id": "TU2_w43aNMgd",
        "colab_type": "code",
        "colab": {
          "base_uri": "https://localhost:8080/",
          "height": 68
        },
        "outputId": "a4092d7a-ed7d-4404-9a11-06a42e6e9064"
      },
      "source": [
        "x = Variable(torch.ones(batch_size, channels, 28, 28))\n",
        "e = encoder(x)\n",
        "d = decoder(e)\n",
        "\n",
        "print('Input\\t ', list(x.data.shape))\n",
        "print('Embedding', list(e.data.shape))\n",
        "print('Output\\t ', list(d.data.shape))"
      ],
      "execution_count": 252,
      "outputs": [
        {
          "output_type": "stream",
          "text": [
            "Input\t  [128, 1, 28, 28]\n",
            "Embedding [128, 40]\n",
            "Output\t  [128, 1, 28, 28]\n"
          ],
          "name": "stdout"
        }
      ]
    },
    {
      "cell_type": "code",
      "metadata": {
        "id": "VhglA7RIDtph",
        "colab_type": "code",
        "colab": {
          "base_uri": "https://localhost:8080/",
          "height": 255
        },
        "outputId": "c6964131-6630-4bc4-8c46-f76bec04715b"
      },
      "source": [
        "model = autoencoder.cuda()\n",
        "loss_fn = nn.MSELoss()\n",
        "optim = torch.optim.Adam(model.parameters())\n",
        "model.train()"
      ],
      "execution_count": 253,
      "outputs": [
        {
          "output_type": "execute_result",
          "data": {
            "text/plain": [
              "Sequential(\n",
              "  (0): Encoder(\n",
              "    (conv2d1): Conv2d(1, 10, kernel_size=(5, 5), stride=(2, 2), padding=(1, 1))\n",
              "    (conv2d2): Conv2d(10, 20, kernel_size=(3, 3), stride=(2, 2), padding=(1, 1))\n",
              "    (conv2d3): Conv2d(20, 40, kernel_size=(5, 5), stride=(3, 3), padding=(1, 1))\n",
              "    (fully): Linear(in_features=160, out_features=40, bias=True)\n",
              "  )\n",
              "  (1): Decoder(\n",
              "    (fully): Linear(in_features=40, out_features=160, bias=True)\n",
              "    (conv2d1): ConvTranspose2d(40, 20, kernel_size=(5, 5), stride=(4, 4), padding=(1, 1))\n",
              "    (conv2d2): ConvTranspose2d(20, 10, kernel_size=(3, 3), stride=(2, 2), padding=(1, 1))\n",
              "    (conv2d3): ConvTranspose2d(10, 1, kernel_size=(6, 6), stride=(2, 2), padding=(1, 1))\n",
              "  )\n",
              ")"
            ]
          },
          "metadata": {
            "tags": []
          },
          "execution_count": 253
        }
      ]
    },
    {
      "cell_type": "code",
      "metadata": {
        "id": "ORyGsuCW3jDP",
        "colab_type": "code",
        "colab": {}
      },
      "source": [
        "# Create transforms\n",
        "def img_transform(img):\n",
        "  transforms_list = [transforms.functional.adjust_brightness(img, brightness_factor=2)]\n",
        "  # transforms.RandomApply(transforms_list, p=0.5)(img)\n",
        "  img =  transforms.Compose([transforms.ToPILImage(), transforms.RandomApply(transforms_list, p=0.5), \n",
        "                             transforms.ToTensor(), transforms.Normalize([0.5], [0.5])])(img)\n",
        "  # print(type(img))\n",
        "  return img\n",
        "\n",
        "def img_normalize(img):\n",
        "  img =  transforms.Compose([transforms.ToTensor(), transforms.Normalize([0.5], [0.5])])\n",
        "  return img"
      ],
      "execution_count": 254,
      "outputs": []
    },
    {
      "cell_type": "code",
      "metadata": {
        "id": "3L_jcTtME5Kd",
        "colab_type": "code",
        "colab": {
          "base_uri": "https://localhost:8080/",
          "height": 357
        },
        "outputId": "57985a5d-3b68-4840-970a-b84bd276c33a"
      },
      "source": [
        "# print(mnist_data.dataset.data[0].shape)\n",
        "num_epochs = 20\n",
        "epoch_loss = []\n",
        "for epoch in range(num_epochs):\n",
        "  batch_loss = []\n",
        "  for batch_num, (data, _) in enumerate(mnist_data): # data = [128, 1, 28, 28]\n",
        "    # print(data.shape)\n",
        "    optim.zero_grad()\n",
        "    # data = data.view(data.shape[0], -1) # data = [128, 784]\n",
        "    # print(data.shape)\n",
        "    # input = img_transform(data)\n",
        "    # data = img_normalize(data)\n",
        "    data = Variable(data).cuda()\n",
        "    # print(data.shape)\n",
        "    \n",
        "    # print(input.shape)\n",
        "    output = model(data)\n",
        "    loss = loss_fn(output, data)\n",
        "    loss.backward()\n",
        "    optim.step()\n",
        "    batch_loss.append(loss)\n",
        "  epoch_loss.append(sum(batch_loss)/len(batch_loss))\n",
        "  print(f'Epoch {epoch}:\\tloss {epoch_loss[-1]:.4f}')"
      ],
      "execution_count": 255,
      "outputs": [
        {
          "output_type": "stream",
          "text": [
            "Epoch 0:\tloss 0.8900\n",
            "Epoch 1:\tloss 0.8537\n",
            "Epoch 2:\tloss 0.8484\n",
            "Epoch 3:\tloss 0.8461\n",
            "Epoch 4:\tloss 0.8447\n",
            "Epoch 5:\tloss 0.8439\n",
            "Epoch 6:\tloss 0.8432\n",
            "Epoch 7:\tloss 0.8428\n",
            "Epoch 8:\tloss 0.8424\n",
            "Epoch 9:\tloss 0.8422\n",
            "Epoch 10:\tloss 0.8419\n",
            "Epoch 11:\tloss 0.8417\n",
            "Epoch 12:\tloss 0.8415\n",
            "Epoch 13:\tloss 0.8414\n",
            "Epoch 14:\tloss 0.8413\n",
            "Epoch 15:\tloss 0.8412\n",
            "Epoch 16:\tloss 0.8411\n",
            "Epoch 17:\tloss 0.8410\n",
            "Epoch 18:\tloss 0.8409\n",
            "Epoch 19:\tloss 0.8408\n"
          ],
          "name": "stdout"
        }
      ]
    },
    {
      "cell_type": "code",
      "metadata": {
        "id": "JQoqKeu0Z8OR",
        "colab_type": "code",
        "colab": {}
      },
      "source": [
        "def to_img(x):\n",
        "    x = 0.5 * x + 0.5\n",
        "    x = x.clamp(0, 1)\n",
        "    x = x.view(x.shape[0], 1, 28, 28)\n",
        "    return x"
      ],
      "execution_count": 256,
      "outputs": []
    },
    {
      "cell_type": "code",
      "metadata": {
        "id": "WyNFcBZocfD1",
        "colab_type": "code",
        "colab": {}
      },
      "source": [
        "import matplotlib.pyplot as plt\n",
        "import numpy as np\n",
        "def show(img):\n",
        "    npimg = img.detach().numpy()\n",
        "    plt.imshow(np.transpose(npimg, (1,2,0)), interpolation='nearest')"
      ],
      "execution_count": 257,
      "outputs": []
    },
    {
      "cell_type": "code",
      "metadata": {
        "id": "NUN0Cg5YGHF9",
        "colab_type": "code",
        "colab": {
          "base_uri": "https://localhost:8080/",
          "height": 261
        },
        "outputId": "0bbfcc86-cbf3-43e0-e421-247d74c35b1b"
      },
      "source": [
        "# print output\n",
        "print_data = dataloader.DataLoader(dataset, batch_size=20, shuffle=True)\n",
        "from PIL import Image\n",
        "for batch_num, (data, _) in enumerate(print_data):\n",
        "    img1 = to_img(data)\n",
        "    data = Variable(img1).cuda()\n",
        "    output = model(data)\n",
        "    output = output.cpu()\n",
        "    img = to_img(output)\n",
        "    show(make_grid(torch.cat([img1, img])))\n",
        "    break"
      ],
      "execution_count": 258,
      "outputs": [
        {
          "output_type": "display_data",
          "data": {
            "image/png": "[encoded data removed]",
            "text/plain": [
              "<Figure size 432x288 with 1 Axes>"
            ]
          },
          "metadata": {
            "tags": [],
            "needs_background": "light"
          }
        }
      ]
    },
    {
      "cell_type": "code",
      "metadata": {
        "id": "8PReiJ7ydxQf",
        "colab_type": "code",
        "colab": {}
      },
      "source": [
        ""
      ],
      "execution_count": null,
      "outputs": []
    }
  ]
}