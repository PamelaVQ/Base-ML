{
  "nbformat": 4,
  "nbformat_minor": 0,
  "metadata": {
    "colab": {
      "name": "RNN for Sentence Generation",
      "provenance": [],
      "authorship_tag": "ABX9TyMtgBCaMwg5MkHtIPJEwech",
      "include_colab_link": true
    },
    "kernelspec": {
      "name": "python3",
      "display_name": "Python 3"
    }
  },
  "cells": [
    {
      "cell_type": "markdown",
      "metadata": {
        "id": "view-in-github",
        "colab_type": "text"
      },
      "source": [
        "<a href=\"https://colab.research.google.com/github/PamelaVQ/Base-ML/blob/master/Pytorch_Basics/RNN_for_Sentence_Generation.ipynb\" target=\"_parent\"><img src=\"https://colab.research.google.com/assets/colab-badge.svg\" alt=\"Open In Colab\"/></a>"
      ]
    },
    {
      "cell_type": "markdown",
      "metadata": {
        "id": "HjupPDxyIRii",
        "colab_type": "text"
      },
      "source": [
        "Use Recurrent Neural Network for Sentence Generation"
      ]
    },
    {
      "cell_type": "markdown",
      "metadata": {
        "id": "d1D8b1g6Ilo3",
        "colab_type": "text"
      },
      "source": [
        "Reference Links:\n",
        "\n",
        "http://karpathy.github.io/2015/05/21/rnn-effectiveness/\n",
        "\n",
        "https://gist.github.com/karpathy/d4dee566867f8291f086\n",
        "\n",
        "https://github.com/keras-team/keras/blob/master/examples/lstm_text_generation.py\n"
      ]
    },
    {
      "cell_type": "code",
      "metadata": {
        "id": "ml6VEf0qII-F",
        "colab_type": "code",
        "colab": {}
      },
      "source": [
        "from tensorflow.keras.utils import get_file\n",
        "import io\n",
        "import sklearn\n",
        "import sklearn.feature_extraction\n",
        "import numpy as np\n",
        "from torch import nn\n",
        "import torchvision\n",
        "import torch"
      ],
      "execution_count": 2,
      "outputs": []
    },
    {
      "cell_type": "code",
      "metadata": {
        "id": "i0UdMkKdM28A",
        "colab_type": "code",
        "colab": {}
      },
      "source": [
        "def pattern_text(start_pattern, end_pattern, data):\n",
        "  # pattern = f'{start_pattern}(.*){end_pattern}'\n",
        "  # result = re.search(re.escape(pattern), data)\n",
        "  result = data[data.find(start_pattern)+len(start_pattern):data.rfind(end_pattern)]\n",
        "  return result"
      ],
      "execution_count": 3,
      "outputs": []
    },
    {
      "cell_type": "code",
      "metadata": {
        "id": "SaMK09OcLZZ5",
        "colab_type": "code",
        "colab": {
          "base_uri": "https://localhost:8080/",
          "height": 85
        },
        "outputId": "0c2cbc3c-e94b-46b7-cb91-804f521ba161"
      },
      "source": [
        "path = get_file(\"agatha_christie\", origin=\"https://www.gutenberg.org/files/863/863-0.txt\")\n",
        "with io.open(path, encoding='utf-8') as read_file:\n",
        "  data_agatha_christie = read_file.readlines()\n",
        "# start_text = \"\"\"*** START OF THIS PROJECT GUTENBERG EBOOK THE MYSTERIOUS AFFAIR AT STYLES ***\"\"\".lower()\n",
        "# end_text = \"\"\"*** END OF THIS PROJECT GUTENBERG EBOOK THE MYSTERIOUS AFFAIR AT STYLES ***\"\"\".lower()\n",
        "# data_agatha_christie = pattern_text(start_text, end_text, data)\n",
        "# print(f'agatha_christie corpus length:{len(data_agatha_christie)}')\n",
        "\n",
        "path = get_file(\"lewis_carroll\", origin=\"https://www.gutenberg.org/files/11/11-0.txt\")\n",
        "with io.open(path, encoding='utf-8') as read_file:\n",
        "  data_lewis_carroll = read_file.readlines()\n",
        "# start_text = \"\"\"*** START OF THIS PROJECT GUTENBERG EBOOK ALICE’S ADVENTURES IN WONDERLAND ***\"\"\".lower()\n",
        "# end_text = \"\"\"*** END OF THIS PROJECT GUTENBERG EBOOK ALICE’S ADVENTURES IN WONDERLAND ***\"\"\".lower()\n",
        "# data_lewis_carroll = pattern_text(start_text, end_text, data)\n",
        "# print(f'lewis_carroll corpus length:{len(data_lewis_carroll)}')"
      ],
      "execution_count": 4,
      "outputs": [
        {
          "output_type": "stream",
          "text": [
            "Downloading data from https://www.gutenberg.org/files/863/863-0.txt\n",
            "368640/361774 [==============================] - 0s 1us/step\n",
            "Downloading data from https://www.gutenberg.org/files/11/11-0.txt\n",
            "180224/174484 [==============================] - 0s 1us/step\n"
          ],
          "name": "stdout"
        }
      ]
    },
    {
      "cell_type": "code",
      "metadata": {
        "id": "M_Cu2ZsxNmMt",
        "colab_type": "code",
        "colab": {}
      },
      "source": [
        "def reverse_dictionary(my_map):\n",
        "  return {v: k for k, v in my_map.items()}\n",
        "\n",
        "def create_vocab(corpus):\n",
        "  # corpus = [x for x in data if len(x)>0]\n",
        "  vectorizer = sklearn.feature_extraction.text.CountVectorizer(min_df=1)\n",
        "  X = vectorizer.fit_transform(corpus)\n",
        "  analyzer = vectorizer.build_analyzer()\n",
        "  output_corpus = [x for x in [list(map(lambda x: vectorizer.vocabulary_.get(x), analyzer(line))) for line in corpus] if x]\n",
        "  word2idx = vectorizer.vocabulary_\n",
        "  # print(f'word2idx: {word2idx}')\n",
        "  idx2word = reverse_dictionary(word2idx)\n",
        "  # print(f'idx2word: {idx2word}')\n",
        "  return word2idx, idx2word, output_corpus\n",
        "\n",
        "word2idx, idx2word, output_corpus = create_vocab(data_agatha_christie)"
      ],
      "execution_count": 5,
      "outputs": []
    },
    {
      "cell_type": "code",
      "metadata": {
        "id": "qQoEdHqeifZb",
        "colab_type": "code",
        "colab": {}
      },
      "source": [
        "def get_vocab_details(corpus):\n",
        "  max_length = max([len(corpus) for corpus in corpus])\n",
        "  vocab_size = len(corpus)\n",
        "  return max_length, vocab_size\n",
        "\n",
        "max_length, vocab_size = get_vocab_details(output_corpus)"
      ],
      "execution_count": 6,
      "outputs": []
    },
    {
      "cell_type": "code",
      "metadata": {
        "id": "wL5lnTPEWfpC",
        "colab_type": "code",
        "colab": {}
      },
      "source": [
        "class RNN(nn.Module):\n",
        "    def __init__(self, max_length, vocab_size):\n",
        "      super(RNN, self).__init__()\n",
        "      # self.embed = nn.Embedding(input_size, 128)\n",
        "      self.lstm = nn.LSTM(128, input_shape=(max_length, vocab_size))\n",
        "      self.dense = nn.Dense(vocab_size, activation='softmax')\n",
        "\n",
        "    def forward(self, x):\n",
        "      x = self.lstm(x)\n",
        "      x = self.dense(x)"
      ],
      "execution_count": 7,
      "outputs": []
    },
    {
      "cell_type": "markdown",
      "metadata": {
        "id": "F2gBL-l54q5_",
        "colab_type": "text"
      },
      "source": [
        "Understanding LSTM: [Pytorch LSTM Docs](https://pytorch.org/docs/stable/generated/torch.nn.LSTM.html)"
      ]
    },
    {
      "cell_type": "code",
      "metadata": {
        "id": "OuH0uJ5ApiLb",
        "colab_type": "code",
        "colab": {
          "base_uri": "https://localhost:8080/",
          "height": 51
        },
        "outputId": "300257c1-4fb6-4246-c8bd-4d534a002e8b"
      },
      "source": [
        "# testing LSTM\n",
        "lstm = nn.LSTM(3, 3)  # Input dim is 3, output dim is 3\n",
        "inputs = [torch.randn(1, 3) for _ in range(5)]  # make a sequence of length 5\n",
        "print(inputs[0].shape)\n",
        "# initialize the hidden state.\n",
        "hidden = (torch.randn(1, 1, 3),\n",
        "          torch.randn(1, 1, 3))\n",
        "print(hidden)"
      ],
      "execution_count": 8,
      "outputs": [
        {
          "output_type": "stream",
          "text": [
            "torch.Size([1, 3])\n",
            "(tensor([[[-0.2508, -0.1271, -1.1803]]]), tensor([[[ 0.8972,  0.3283, -0.1603]]]))\n"
          ],
          "name": "stdout"
        }
      ]
    },
    {
      "cell_type": "code",
      "metadata": {
        "id": "1ABOjipVsxB2",
        "colab_type": "code",
        "colab": {}
      },
      "source": [
        "for i in inputs:\n",
        "    # Step through the sequence one element at a time.\n",
        "    # after each step, hidden contains the hidden state.\n",
        "    out, hidden = lstm(i.view(1, 1, -1), hidden) # (3,3) ((3,3), (3,3))"
      ],
      "execution_count": 9,
      "outputs": []
    },
    {
      "cell_type": "code",
      "metadata": {
        "id": "HwZuoiQIxxtH",
        "colab_type": "code",
        "colab": {
          "base_uri": "https://localhost:8080/",
          "height": 51
        },
        "outputId": "54128082-f615-4b95-ca1f-079dbf26a076"
      },
      "source": [
        "# do all 3 inputs at once\n",
        "inputs_1 = torch.cat(inputs).view(len(inputs), 1, -1)\n",
        "hidden = (torch.randn(1, 1, 3), torch.randn(1, 1, 3))\n",
        "output, hidden = lstm(inputs_1, hidden)\n",
        "print(output.shape)\n",
        "print(hidden[0].shape)"
      ],
      "execution_count": 10,
      "outputs": [
        {
          "output_type": "stream",
          "text": [
            "torch.Size([5, 1, 3])\n",
            "torch.Size([1, 1, 3])\n"
          ],
          "name": "stdout"
        }
      ]
    },
    {
      "cell_type": "markdown",
      "metadata": {
        "id": "UZeQiRi24W7v",
        "colab_type": "text"
      },
      "source": [
        "Learning: [An LSTM for Part-of-Speech Tagging](https://pytorch.org/tutorials/beginner/nlp/sequence_models_tutorial.html#example-an-lstm-for-part-of-speech-tagging)"
      ]
    },
    {
      "cell_type": "code",
      "metadata": {
        "id": "0umcTj9B0dQN",
        "colab_type": "code",
        "colab": {}
      },
      "source": [
        "def prepare_sequence(seq, to_ix):\n",
        "    idxs = [to_ix[w] for w in seq]\n",
        "    return torch.tensor(idxs, dtype=torch.long)"
      ],
      "execution_count": 11,
      "outputs": []
    },
    {
      "cell_type": "code",
      "metadata": {
        "id": "UGaO06gVFTvv",
        "colab_type": "code",
        "colab": {}
      },
      "source": [
        "EMBEDDING_DIM = 6\n",
        "HIDDEN_DIM = 6"
      ],
      "execution_count": 12,
      "outputs": []
    },
    {
      "cell_type": "code",
      "metadata": {
        "id": "bDphzN64GJXd",
        "colab_type": "code",
        "colab": {}
      },
      "source": [
        "class LSTMSequenceGenerator(nn.Module):\n",
        "    def __init__(self, embedding_dim, hidden_dim, vocab_size):\n",
        "      super(LSTMSequenceGenerator, self).__init__()\n",
        "      self.hidden_dim = hidden_dim\n",
        "      self.embeddings = nn.Embedding(vocab_size, embedding_dim)\n",
        "      self.lstm = nn.LSTM(embedding_dim, hidden_dim)\n",
        "      self.dense = nn.Dense(embedding_dim, activation='softmax')\n",
        "\n",
        "    def forward(self, sentence):\n",
        "      embs = self.embeddings(sentence)\n",
        "      lstm_out, _ = self.lstm(embs.view(len(sentence), 1, -1))\n",
        "      out = self.dense(lstm_out.view(len(sentence), 1, -1))\n",
        "      return out\n"
      ],
      "execution_count": 13,
      "outputs": []
    },
    {
      "cell_type": "code",
      "metadata": {
        "id": "QeKxgV7fJwRn",
        "colab_type": "code",
        "colab": {}
      },
      "source": [
        ""
      ],
      "execution_count": null,
      "outputs": []
    }
  ]
}