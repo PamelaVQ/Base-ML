{
  "nbformat": 4,
  "nbformat_minor": 0,
  "metadata": {
    "colab": {
      "name": "RNN for Sentence Generation",
      "provenance": [],
      "authorship_tag": "ABX9TyMlGZFv4NcY5Znx7i0snaBq",
      "include_colab_link": true
    },
    "kernelspec": {
      "name": "python3",
      "display_name": "Python 3"
    }
  },
  "cells": [
    {
      "cell_type": "markdown",
      "metadata": {
        "id": "view-in-github",
        "colab_type": "text"
      },
      "source": [
        "<a href=\"https://colab.research.google.com/github/PamelaVQ/Base-ML/blob/master/Pytorch_Basics/RNN_for_Sentence_Generation.ipynb\" target=\"_parent\"><img src=\"https://colab.research.google.com/assets/colab-badge.svg\" alt=\"Open In Colab\"/></a>"
      ]
    },
    {
      "cell_type": "markdown",
      "metadata": {
        "id": "HjupPDxyIRii",
        "colab_type": "text"
      },
      "source": [
        "Use Recurrent Neural Network for Sentence Generation"
      ]
    },
    {
      "cell_type": "markdown",
      "metadata": {
        "id": "d1D8b1g6Ilo3",
        "colab_type": "text"
      },
      "source": [
        "Reference Links:\n",
        "\n",
        "http://karpathy.github.io/2015/05/21/rnn-effectiveness/\n",
        "\n",
        "https://gist.github.com/karpathy/d4dee566867f8291f086\n",
        "\n",
        "https://github.com/keras-team/keras/blob/master/examples/lstm_text_generation.py\n"
      ]
    },
    {
      "cell_type": "code",
      "metadata": {
        "id": "ml6VEf0qII-F",
        "colab_type": "code",
        "colab": {}
      },
      "source": [
        ""
      ],
      "execution_count": null,
      "outputs": []
    }
  ]
}