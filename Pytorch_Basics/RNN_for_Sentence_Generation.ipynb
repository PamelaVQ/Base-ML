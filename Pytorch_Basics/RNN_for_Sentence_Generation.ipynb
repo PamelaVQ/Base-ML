{
  "nbformat": 4,
  "nbformat_minor": 0,
  "metadata": {
    "colab": {
      "name": "RNN for Sentence Generation",
      "provenance": [],
      "authorship_tag": "ABX9TyO0ovhAcNNve0rcgrzdNKSu",
      "include_colab_link": true
    },
    "kernelspec": {
      "name": "python3",
      "display_name": "Python 3"
    }
  },
  "cells": [
    {
      "cell_type": "markdown",
      "metadata": {
        "id": "view-in-github",
        "colab_type": "text"
      },
      "source": [
        "<a href=\"https://colab.research.google.com/github/PamelaVQ/Base-ML/blob/master/Pytorch_Basics/RNN_for_Sentence_Generation.ipynb\" target=\"_parent\"><img src=\"https://colab.research.google.com/assets/colab-badge.svg\" alt=\"Open In Colab\"/></a>"
      ]
    },
    {
      "cell_type": "markdown",
      "metadata": {
        "id": "HjupPDxyIRii",
        "colab_type": "text"
      },
      "source": [
        "Use Recurrent Neural Network for Sentence Generation"
      ]
    },
    {
      "cell_type": "markdown",
      "metadata": {
        "id": "d1D8b1g6Ilo3",
        "colab_type": "text"
      },
      "source": [
        "Reference Links:\n",
        "\n",
        "http://karpathy.github.io/2015/05/21/rnn-effectiveness/\n",
        "\n",
        "https://gist.github.com/karpathy/d4dee566867f8291f086\n",
        "\n",
        "https://github.com/keras-team/keras/blob/master/examples/lstm_text_generation.py\n"
      ]
    },
    {
      "cell_type": "code",
      "metadata": {
        "id": "ml6VEf0qII-F",
        "colab_type": "code",
        "colab": {}
      },
      "source": [
        "from tensorflow.keras.utils import get_file\n",
        "import io"
      ],
      "execution_count": 2,
      "outputs": []
    },
    {
      "cell_type": "code",
      "metadata": {
        "id": "i0UdMkKdM28A",
        "colab_type": "code",
        "colab": {}
      },
      "source": [
        "def pattern_text(start_pattern, end_pattern, data):\n",
        "  # pattern = f'{start_pattern}(.*){end_pattern}'\n",
        "  # result = re.search(re.escape(pattern), data)\n",
        "  result = data[data.find(start_pattern)+len(start_pattern):data.rfind(end_pattern)]\n",
        "  return result"
      ],
      "execution_count": 28,
      "outputs": []
    },
    {
      "cell_type": "code",
      "metadata": {
        "id": "SaMK09OcLZZ5",
        "colab_type": "code",
        "colab": {
          "base_uri": "https://localhost:8080/",
          "height": 51
        },
        "outputId": "50e37781-b7d5-4c2c-fa27-984fd28558a7"
      },
      "source": [
        "path = get_file(\"agatha_christie\", origin=\"https://www.gutenberg.org/files/863/863-0.txt\")\n",
        "with io.open(path, encoding='utf-8') as read_file:\n",
        "  data = read_file.read().lower()\n",
        "start_text = \"\"\"*** START OF THIS PROJECT GUTENBERG EBOOK THE MYSTERIOUS AFFAIR AT STYLES ***\"\"\".lower()\n",
        "end_text = \"\"\"*** END OF THIS PROJECT GUTENBERG EBOOK THE MYSTERIOUS AFFAIR AT STYLES ***\"\"\".lower()\n",
        "data_agatha_christie = pattern_text(start_text, end_text, data)\n",
        "print(f'agatha_christie corpus length:{len(data_agatha_christie)}')\n",
        "\n",
        "path = get_file(\"lewis_carroll\", origin=\"https://www.gutenberg.org/files/11/11-0.txt\")\n",
        "with io.open(path, encoding='utf-8') as read_file:\n",
        "  data = read_file.read().lower()\n",
        "start_text = \"\"\"*** START OF THIS PROJECT GUTENBERG EBOOK ALICE’S ADVENTURES IN WONDERLAND ***\"\"\".lower()\n",
        "end_text = \"\"\"*** END OF THIS PROJECT GUTENBERG EBOOK ALICE’S ADVENTURES IN WONDERLAND ***\"\"\".lower()\n",
        "data_lewis_carroll = pattern_text(start_text, end_text, data)\n",
        "print(f'lewis_carroll corpus length:{len(data_lewis_carroll)}')"
      ],
      "execution_count": 31,
      "outputs": [
        {
          "output_type": "stream",
          "text": [
            "agatha_christie corpus length:321018\n",
            "lewis_carroll corpus length:144730\n"
          ],
          "name": "stdout"
        }
      ]
    },
    {
      "cell_type": "code",
      "metadata": {
        "id": "M_Cu2ZsxNmMt",
        "colab_type": "code",
        "colab": {}
      },
      "source": [
        "def create_vocab():\n",
        "  "
      ],
      "execution_count": null,
      "outputs": []
    }
  ]
}